{
 "cells": [
  {
   "cell_type": "markdown",
   "id": "14e0d788",
   "metadata": {
    "toc": true
   },
   "source": [
    "<h1>Table of Contents<span class=\"tocSkip\"></span></h1>\n",
    "<div class=\"toc\"><ul class=\"toc-item\"></ul></div>"
   ]
  },
  {
   "cell_type": "code",
   "execution_count": null,
   "id": "ba305858",
   "metadata": {},
   "outputs": [],
   "source": [
    "import tensorflow.compat.v1 as tf\n",
    "import re"
   ]
  },
  {
   "cell_type": "code",
   "execution_count": 2,
   "id": "3a514233",
   "metadata": {},
   "outputs": [],
   "source": [
    "def change_name(checkpoint_path, output_prefix):\n",
    "    \"\"\"\n",
    "    ckpt = tf.train.Checkpoint(vars={name: variable})\n",
    "    ckpt.restore(converted_ckpt_path)\n",
    "    Args:\n",
    "    checkpoint_path: Path to the TF1 checkpoint.\n",
    "    output_prefix: Path prefix to the converted checkpoint.\n",
    "    \n",
    "    Returns:\n",
    "    Path to the converted checkpoint.\n",
    "    \"\"\"\n",
    "    vars = {}\n",
    "    reader = tf.train.load_checkpoint(checkpoint_path)\n",
    "    dtypes = reader.get_variable_to_dtype_map()\n",
    "\n",
    "    for key in dtypes.keys():\n",
    "        new_key = key\n",
    "        if key=='bert/embeddings/layer_normalization/beta' or key=='bert/embeddings/layer_normalization/gamma':\n",
    "            new_key=key.replace('layer_normalization','LayerNorm')\n",
    "        elif re.search('layer_normalization_+\\d+',key):\n",
    "            new_key = re.sub('layer_normalization_+\\d+','LayerNorm',key)\n",
    "        elif re.search('layer_normalization',key):\n",
    "            new_key = re.sub('layer_normalization','LayerNorm',key)\n",
    "        print(new_key)\n",
    "        vars[new_key] = tf.Variable(reader.get_tensor(key))\n",
    "\n",
    "    return tf.train.Saver(var_list=vars).save(sess=None, save_path=output_prefix)"
   ]
  },
  {
   "cell_type": "code",
   "execution_count": null,
   "id": "3036f721",
   "metadata": {},
   "outputs": [],
   "source": []
  }
 ],
 "metadata": {
  "kernelspec": {
   "display_name": "ESG",
   "language": "python",
   "name": "esg"
  },
  "language_info": {
   "codemirror_mode": {
    "name": "ipython",
    "version": 3
   },
   "file_extension": ".py",
   "mimetype": "text/x-python",
   "name": "python",
   "nbconvert_exporter": "python",
   "pygments_lexer": "ipython3",
   "version": "3.9.17"
  },
  "toc": {
   "base_numbering": 1,
   "nav_menu": {},
   "number_sections": true,
   "sideBar": true,
   "skip_h1_title": true,
   "title_cell": "Table of Contents",
   "title_sidebar": "Contents",
   "toc_cell": true,
   "toc_position": {},
   "toc_section_display": true,
   "toc_window_display": true
  }
 },
 "nbformat": 4,
 "nbformat_minor": 5
}
